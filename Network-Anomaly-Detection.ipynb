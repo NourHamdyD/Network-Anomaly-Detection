{
 "cells": [
  {
   "cell_type": "markdown",
   "metadata": {},
   "source": [
    "## Part 1 Download Datset and Understand the Format"
   ]
  },
  {
   "cell_type": "markdown",
   "metadata": {},
   "source": [
    "Import Libraries"
   ]
  },
  {
   "cell_type": "code",
   "execution_count": 180,
   "metadata": {},
   "outputs": [],
   "source": [
    "import gzip\n",
    "import numpy as np\n",
    "from sklearn.preprocessing import scale\n",
    "import numpy as np\n",
    "from tqdm import tqdm\n",
    "from sklearn.metrics.pairwise import pairwise_distances\n",
    "import matplotlib as plt\n",
    "import random\n"
   ]
  },
  {
   "cell_type": "markdown",
   "metadata": {},
   "source": [
    "Read Dataset files"
   ]
  },
  {
   "cell_type": "code",
   "execution_count": 104,
   "metadata": {},
   "outputs": [],
   "source": [
    "trainDataset = gzip.open('kddcup.data_10_percent.gz', 'r').readlines()\n",
    "testDataset = gzip.open('corrected.gz', 'r').readlines()"
   ]
  },
  {
   "cell_type": "markdown",
   "metadata": {},
   "source": [
    "Maps from categorical data to numerical\n"
   ]
  },
  {
   "cell_type": "code",
   "execution_count": 105,
   "metadata": {},
   "outputs": [],
   "source": [
    "attrNames = ['duration', 'protocol_type', 'service', 'flag', 'src_bytes', 'dst_bytes', 'land', 'wrong_fragment', 'urgent', 'hot', 'num_failed_logins', 'logged_in', 'num_compromised', 'root_shell', 'su_attempted', 'num_root', 'num_file_creations', 'num_shells', 'num_access_files', 'num_outbound_cmds', 'is_host_login', 'is_guest_login', 'count', 'srv_count', 'serror_rate', 'srv_serror_rate', 'rerror_rate', 'srv_rerror_rate', 'same_srv_rate', 'diff_srv_rate', 'srv_diff_host_rate', 'dst_host_count', 'dst_host_srv_count', 'dst_host_same_srv_rate', 'dst_host_diff_srv_rate', 'dst_host_same_src_port_rate', 'dst_host_srv_diff_host_rate', 'dst_host_serror_rate', 'dst_host_srv_serror_rate', 'dst_host_rerror_rate', 'dst_host_srv_rerror_rate', 'label']\n",
    "protocol_type = {'tcp': 0, 'udp': 1, 'icmp': 2}\n",
    "service = {'aol': 0, 'auth': 1, 'bgp': 2, 'courier': 3, 'csnet_ns': 4, 'ctf': 5, 'daytime': 6, 'discard': 7, 'domain': 8, 'domain_u': 9, 'echo': 10, 'eco_i': 11, 'ecr_i': 12, 'efs': 13, 'exec': 14, 'finger': 15, 'ftp': 16, 'ftp_data': 17, 'gopher': 18, 'harvest': 19, 'hostnames': 20, 'http': 21, 'http_2784': 22, 'http_443': 23, 'http_8001': 24, 'imap4': 25, 'IRC': 26, 'iso_tsap': 27, 'klogin': 28, 'kshell': 29, 'ldap': 30, 'link': 31, 'login': 32, 'mtp': 33, 'name': 34, 'netbios_dgm': 35, 'netbios_ns': 36, 'netbios_ssn': 37, 'netstat': 38, 'nnsp': 39, 'nntp': 40, 'ntp_u': 41, 'other': 42, 'pm_dump': 43, 'pop_2': 44, 'pop_3': 45, 'printer': 46, 'private': 47, 'red_i': 48, 'remote_job': 49, 'rje': 50, 'shell': 51, 'smtp': 52, 'sql_net': 53, 'ssh': 54, 'sunrpc': 55, 'supdup': 56, 'systat': 57, 'telnet': 58, 'tftp_u': 59, 'tim_i': 60, 'time': 61, 'urh_i': 62, 'urp_i': 63, 'uucp': 64, 'uucp_path': 65, 'vmnet': 66, 'whois': 67, 'X11': 68, 'Z39_50': 69, 'icmp': 70}\n",
    "flag = {'OTH': 0, 'REJ': 1, 'RSTO': 2, 'RSTOS0': 3, 'RSTR': 4, 'S0': 5, 'S1': 6, 'S2': 7, 'S3': 8, 'SF': 9, 'SH': 10}\n",
    "labels = {'normal': 0, 'back': 1, 'buffer_overflow': 2, 'ftp_write': 3, 'guess_passwd': 4, 'imap': 5, 'ipsweep': 6, 'land': 7, 'loadmodule': 8, 'multihop': 9, 'neptune': 10, 'nmap': 11, 'perl': 12, 'phf': 13, 'pod': 14, 'portsweep': 15, 'rootkit': 16, 'satan': 17, 'smurf': 18, 'spy': 19, 'teardrop': 20, 'warezclient': 21, 'warezmaster': 22, 'snmpgetattack': 23, 'snmpguess': 24, 'httptunnel': 25, 'sendmail': 26, 'named': 27, 'xlock': 28, 'xsnoop': 29, 'worm': 30, 'xterm': 31, 'ps': 32, 'sqlattack': 33, 'udpstorm': 34, 'mailbomb': 35, 'saint': 36, 'apache2': 37, 'mscan': 38, 'processtable': 39,'icmp': 40}"
   ]
  },
  {
   "cell_type": "markdown",
   "metadata": {},
   "source": [
    "Change the categorical features to numerical"
   ]
  },
  {
   "cell_type": "code",
   "execution_count": 106,
   "metadata": {},
   "outputs": [],
   "source": [
    "for i in range(len(trainDataset)):\n",
    "    \n",
    "    trainDataset[i] = trainDataset[i].decode('utf-8') # convert from bytes to string\n",
    "    if trainDataset[i].endswith('.\\n'): \n",
    "        trainDataset[i] = trainDataset[i].replace('.\\n', '') # remove '.\\n'\n",
    "    trainDataset[i] = trainDataset[i].strip().split(',') # split by comma\n",
    "    \n",
    "    for j in range(len(trainDataset[i])):\n",
    "        try:\n",
    "            trainDataset[i][j] = int(trainDataset[i][j]) # convert to int\n",
    "        except ValueError:\n",
    "            try:\n",
    "                trainDataset[i][j] = float(trainDataset[i][j]) # convert to float\n",
    "            except ValueError: # convert categorical data to numerical data\n",
    "                if j == 1: \n",
    "                    trainDataset[i][j] = protocol_type[trainDataset[i][j]]\n",
    "                elif j == 2:\n",
    "                    trainDataset[i][j] = service[trainDataset[i][j]]\n",
    "                elif j == 3:\n",
    "                    trainDataset[i][j] = flag[trainDataset[i][j]]\n",
    "                elif j == 41:\n",
    "                    trainDataset[i][j] = labels[trainDataset[i][j]]"
   ]
  },
  {
   "cell_type": "code",
   "execution_count": 107,
   "metadata": {},
   "outputs": [],
   "source": [
    "# convert from bytes to string and change categorical data to numerical data\n",
    "for i in range(len(testDataset)):\n",
    "    \n",
    "    testDataset[i] = testDataset[i].decode('utf-8') # convert from bytes to string\n",
    "    if testDataset[i].endswith('.\\n'):\n",
    "        testDataset[i] = testDataset[i].replace('.\\n', '') # remove '.\\n'\n",
    "    testDataset[i] = testDataset[i].strip().split(',') # split by comma\n",
    "    \n",
    "    for j in range(len(testDataset[i])):\n",
    "        try:\n",
    "            testDataset[i][j] = int(testDataset[i][j]) # convert to int\n",
    "        except ValueError:\n",
    "            try:\n",
    "                testDataset[i][j] = float(testDataset[i][j]) # convert to float\n",
    "            except ValueError: # convert categorical data to numerical data\n",
    "                if j == 1:\n",
    "                    testDataset[i][j] = protocol_type[testDataset[i][j]]\n",
    "                elif j == 2:\n",
    "                    testDataset[i][j] = service[testDataset[i][j]]\n",
    "                elif j == 3:\n",
    "                    testDataset[i][j] = flag[testDataset[i][j]]\n",
    "                elif j == 41:\n",
    "                    testDataset[i][j] = labels[testDataset[i][j]]"
   ]
  },
  {
   "cell_type": "code",
   "execution_count": 108,
   "metadata": {},
   "outputs": [],
   "source": [
    "# remove duplicate rows\n",
    "trainDataset = list(set(tuple(row) for row in trainDataset))\n",
    "testDataset = list(set(tuple(row) for row in testDataset))\n",
    "\n",
    "trainDataset = list(list(row) for row in trainDataset)\n",
    "testDataset = list(list(row) for row in testDataset)"
   ]
  },
  {
   "cell_type": "code",
   "execution_count": 109,
   "metadata": {},
   "outputs": [],
   "source": [
    "# Split the dataset into features and labels\n",
    "testLabels = []\n",
    "for i in range(len(testDataset)):\n",
    "    testLabels.append(testDataset[i][41])\n",
    "    testDataset[i].pop(41)\n",
    "trainLabels = []\n",
    "for i in range(len(trainDataset)):\n",
    "    trainLabels.append(trainDataset[i][41])\n",
    "    trainDataset[i].pop(41)"
   ]
  },
  {
   "cell_type": "code",
   "execution_count": 110,
   "metadata": {},
   "outputs": [],
   "source": [
    "# take 0.01 from trainDataset for testing purposes\n",
    "train10 = trainDataset[:int(len(trainDataset)*0.01)]\n",
    "trainLabels10 = trainLabels[:int(len(trainLabels)*0.01)]\n",
    "test10 = testDataset[:int(len(testDataset)*0.01)]\n",
    "testLabels10 = testLabels[:int(len(testLabels)*0.01)]"
   ]
  },
  {
   "cell_type": "code",
   "execution_count": 111,
   "metadata": {},
   "outputs": [],
   "source": [
    "scaled_train10 = scale(train10, axis=0, with_mean=True, with_std=True, copy=True)\n",
    "scaled_test10 = scale(test10, axis=0, with_mean=True, with_std=True, copy=True)\n",
    "scaled_train = scale(trainDataset, axis=0, with_mean=True, with_std=True, copy=True)\n",
    "scaled_test = scale(testDataset, axis=0, with_mean=True, with_std=True, copy=True)"
   ]
  },
  {
   "cell_type": "code",
   "execution_count": 162,
   "metadata": {},
   "outputs": [],
   "source": [
    "train_arr = np.array(train10)\n",
    "centroids_arr = np.array(centroids)"
   ]
  },
  {
   "cell_type": "code",
   "execution_count": 183,
   "metadata": {},
   "outputs": [],
   "source": [
    "def initialize_centroids(data, k):\n",
    "    centroids = data.copy()\n",
    "    np.random.shuffle(centroids)\n",
    "    return centroids[:k]"
   ]
  },
  {
   "cell_type": "code",
   "execution_count": 175,
   "metadata": {},
   "outputs": [],
   "source": [
    "def euclidean_distance(a, b):\n",
    "    \"\"\"Compute the Euclidean distance between two points.\"\"\"\n",
    "    return np.sqrt(sum((a - b) ** 2 for a, b in zip(a, b)))"
   ]
  },
  {
   "cell_type": "code",
   "execution_count": 176,
   "metadata": {},
   "outputs": [],
   "source": [
    "def find_closest_centroids(X, centroids):\n",
    "    \"\"\"Assign each point to the nearest centroid.\"\"\"\n",
    "    m = len(X)\n",
    "    k = len(centroids)\n",
    "    idx = np.zeros(m, dtype=int)\n",
    "    for i in range(m):\n",
    "        min_dist = float('inf')\n",
    "        for j in range(k):\n",
    "            dist = euclidean_distance(X[i], centroids[j])\n",
    "            if dist < min_dist:\n",
    "                min_dist = dist\n",
    "                idx[i] = j\n",
    "    return idx"
   ]
  },
  {
   "cell_type": "code",
   "execution_count": 177,
   "metadata": {},
   "outputs": [],
   "source": [
    "def compute_centroids(X, idx, k):\n",
    "    \"\"\"Compute the centroid for each cluster.\"\"\"\n",
    "    n = len(X[0])\n",
    "    centroids = np.zeros((k, n))\n",
    "    count = np.zeros(k)\n",
    "    for i in range(len(X)):\n",
    "        c = idx[i]\n",
    "        centroids[c] += X[i]\n",
    "        count[c] += 1\n",
    "    for i in range(k):\n",
    "        if count[i] != 0:\n",
    "            centroids[i] /= count[i]\n",
    "    return centroids"
   ]
  },
  {
   "cell_type": "code",
   "execution_count": 185,
   "metadata": {},
   "outputs": [],
   "source": [
    "def kmeans(X, k, max_iters=100):\n",
    "    \"\"\"K-means clustering algorithm.\"\"\"\n",
    "    m, n = len(X), len(X[0])\n",
    "    centroids = initialize_centroids(train_arr, k)\n",
    "    for _ in range(max_iters):\n",
    "        idx = find_closest_centroids(X, centroids)\n",
    "        new_centroids = compute_centroids(X, idx, k)\n",
    "        if np.array_equal(new_centroids, centroids):\n",
    "            break\n",
    "        centroids = new_centroids\n",
    "    return idx, centroids"
   ]
  },
  {
   "cell_type": "code",
   "execution_count": null,
   "metadata": {},
   "outputs": [
    {
     "name": "stdout",
     "output_type": "stream",
     "text": [
      "k=7\n",
      "Cluster assignments: [0 4 4 ... 4 4 4]\n",
      "Centroids: [[7.01715000e+03 1.00000000e+00 4.20000000e+01 9.00000000e+00\n",
      "  1.46450000e+02 1.05000000e+02 0.00000000e+00 0.00000000e+00\n",
      "  0.00000000e+00 0.00000000e+00 0.00000000e+00 0.00000000e+00\n",
      "  0.00000000e+00 0.00000000e+00 0.00000000e+00 0.00000000e+00\n",
      "  0.00000000e+00 0.00000000e+00 0.00000000e+00 0.00000000e+00\n",
      "  0.00000000e+00 0.00000000e+00 1.45000000e+00 1.05000000e+00\n",
      "  0.00000000e+00 0.00000000e+00 0.00000000e+00 0.00000000e+00\n",
      "  9.20000000e-01 6.00000000e-02 0.00000000e+00 2.51900000e+02\n",
      "  1.90000000e+00 6.50000000e-03 6.33000000e-01 9.00000000e-01\n",
      "  0.00000000e+00 0.00000000e+00 0.00000000e+00 0.00000000e+00\n",
      "  0.00000000e+00]\n",
      " [1.27914286e+03 0.00000000e+00 2.62857143e+01 9.00000000e+00\n",
      "  2.51857143e+02 4.71244286e+04 0.00000000e+00 0.00000000e+00\n",
      "  0.00000000e+00 0.00000000e+00 0.00000000e+00 1.00000000e+00\n",
      "  1.45714286e+01 1.42857143e-01 2.85714286e-01 1.70000000e+01\n",
      "  0.00000000e+00 0.00000000e+00 4.28571429e-01 0.00000000e+00\n",
      "  0.00000000e+00 0.00000000e+00 2.57142857e+00 2.57142857e+00\n",
      "  0.00000000e+00 0.00000000e+00 0.00000000e+00 0.00000000e+00\n",
      "  1.00000000e+00 0.00000000e+00 0.00000000e+00 1.40285714e+02\n",
      "  2.32428571e+02 9.11428571e-01 1.42857143e-03 1.54285714e-01\n",
      "  8.57142857e-03 9.14285714e-02 1.17142857e-01 0.00000000e+00\n",
      "  0.00000000e+00]\n",
      " [5.38700000e+03 0.00000000e+00 5.80000000e+01 5.50000000e+00\n",
      "  1.98800000e+03 2.58386000e+05 0.00000000e+00 0.00000000e+00\n",
      "  0.00000000e+00 1.00000000e+00 0.00000000e+00 5.00000000e-01\n",
      "  0.00000000e+00 0.00000000e+00 0.00000000e+00 0.00000000e+00\n",
      "  0.00000000e+00 0.00000000e+00 0.00000000e+00 0.00000000e+00\n",
      "  0.00000000e+00 0.00000000e+00 1.00000000e+00 1.00000000e+00\n",
      "  0.00000000e+00 0.00000000e+00 5.00000000e-01 5.00000000e-01\n",
      "  1.00000000e+00 0.00000000e+00 0.00000000e+00 1.41500000e+02\n",
      "  3.05000000e+01 2.45000000e-01 6.00000000e-02 1.00000000e-02\n",
      "  0.00000000e+00 1.00000000e-02 3.00000000e-02 3.50000000e-02\n",
      "  1.20000000e-01]\n",
      " [0.00000000e+00 0.00000000e+00 2.00000000e+01 8.62500000e+00\n",
      "  5.27647500e+04 6.23550000e+03 0.00000000e+00 0.00000000e+00\n",
      "  0.00000000e+00 1.50000000e+00 0.00000000e+00 1.00000000e+00\n",
      "  7.50000000e-01 0.00000000e+00 0.00000000e+00 0.00000000e+00\n",
      "  0.00000000e+00 0.00000000e+00 0.00000000e+00 0.00000000e+00\n",
      "  0.00000000e+00 0.00000000e+00 5.50000000e+00 5.75000000e+00\n",
      "  7.50000000e-03 7.50000000e-03 2.50000000e-02 6.12500000e-02\n",
      "  1.00000000e+00 0.00000000e+00 5.37500000e-02 1.45125000e+02\n",
      "  1.16125000e+02 8.61250000e-01 5.00000000e-03 1.31250000e-01\n",
      "  0.00000000e+00 0.00000000e+00 1.25000000e-03 5.50000000e-02\n",
      "  5.50000000e-02]\n",
      " [4.77217742e+01 1.35483871e-01 3.44524194e+01 6.70887097e+00\n",
      "  3.07924194e+02 4.01557258e+02 0.00000000e+00 3.06451613e-02\n",
      "  0.00000000e+00 4.83870968e-02 0.00000000e+00 4.12903226e-01\n",
      "  0.00000000e+00 1.61290323e-03 0.00000000e+00 1.12903226e-02\n",
      "  0.00000000e+00 0.00000000e+00 8.06451613e-04 0.00000000e+00\n",
      "  0.00000000e+00 4.03225806e-03 8.28088710e+01 1.26935484e+01\n",
      "  3.37233871e-01 3.36185484e-01 1.19016129e-01 1.18403226e-01\n",
      "  6.05064516e-01 4.80564516e-02 9.36854839e-02 1.90032258e+02\n",
      "  1.14879839e+02 4.93443548e-01 7.23951613e-02 1.02943548e-01\n",
      "  1.89596774e-02 3.36443548e-01 3.36701613e-01 1.22330645e-01\n",
      "  1.18048387e-01]\n",
      " [1.44186047e+00 0.00000000e+00 2.14961240e+01 9.00000000e+00\n",
      "  2.91131783e+02 5.80391473e+03 0.00000000e+00 0.00000000e+00\n",
      "  0.00000000e+00 3.48837209e-01 0.00000000e+00 9.92248062e-01\n",
      "  1.55038760e-02 7.75193798e-03 0.00000000e+00 0.00000000e+00\n",
      "  0.00000000e+00 0.00000000e+00 0.00000000e+00 0.00000000e+00\n",
      "  0.00000000e+00 1.55038760e-02 8.02325581e+00 1.12868217e+01\n",
      "  1.93798450e-03 3.33333333e-03 0.00000000e+00 0.00000000e+00\n",
      "  1.00000000e+00 0.00000000e+00 8.79069767e-02 1.13899225e+02\n",
      "  2.40953488e+02 9.78604651e-01 7.20930233e-03 9.44186047e-02\n",
      "  2.57364341e-02 3.10077519e-04 3.10077519e-04 6.04651163e-03\n",
      "  6.27906977e-03]\n",
      " [0.00000000e+00 0.00000000e+00 2.10000000e+01 9.00000000e+00\n",
      "  2.51714286e+02 1.78721429e+04 0.00000000e+00 0.00000000e+00\n",
      "  0.00000000e+00 0.00000000e+00 0.00000000e+00 1.00000000e+00\n",
      "  0.00000000e+00 0.00000000e+00 0.00000000e+00 0.00000000e+00\n",
      "  0.00000000e+00 0.00000000e+00 0.00000000e+00 0.00000000e+00\n",
      "  0.00000000e+00 0.00000000e+00 8.59183673e+00 1.01428571e+01\n",
      "  8.16326531e-04 8.16326531e-04 0.00000000e+00 0.00000000e+00\n",
      "  1.00000000e+00 0.00000000e+00 9.67346939e-02 1.13367347e+02\n",
      "  2.44816327e+02 1.00000000e+00 0.00000000e+00 6.24489796e-02\n",
      "  2.89795918e-02 1.83673469e-03 4.08163265e-04 1.83673469e-02\n",
      "  2.00000000e-02]]\n",
      "k=15\n",
      "Cluster assignments: [ 6 14  1 ...  1 13 10]\n",
      "Centroids: [[5.38700000e+03 0.00000000e+00 5.80000000e+01 5.50000000e+00\n",
      "  1.98800000e+03 2.58386000e+05 0.00000000e+00 0.00000000e+00\n",
      "  0.00000000e+00 1.00000000e+00 0.00000000e+00 5.00000000e-01\n",
      "  0.00000000e+00 0.00000000e+00 0.00000000e+00 0.00000000e+00\n",
      "  0.00000000e+00 0.00000000e+00 0.00000000e+00 0.00000000e+00\n",
      "  0.00000000e+00 0.00000000e+00 1.00000000e+00 1.00000000e+00\n",
      "  0.00000000e+00 0.00000000e+00 5.00000000e-01 5.00000000e-01\n",
      "  1.00000000e+00 0.00000000e+00 0.00000000e+00 1.41500000e+02\n",
      "  3.05000000e+01 2.45000000e-01 6.00000000e-02 1.00000000e-02\n",
      "  0.00000000e+00 1.00000000e-02 3.00000000e-02 3.50000000e-02\n",
      "  1.20000000e-01]\n",
      " [1.29178470e+00 1.79886686e-01 3.94504249e+01 4.97592068e+00\n",
      "  1.77875354e+01 1.10354108e+01 0.00000000e+00 5.09915014e-02\n",
      "  0.00000000e+00 0.00000000e+00 0.00000000e+00 2.26628895e-02\n",
      "  0.00000000e+00 0.00000000e+00 0.00000000e+00 2.83286119e-03\n",
      "  0.00000000e+00 0.00000000e+00 0.00000000e+00 0.00000000e+00\n",
      "  0.00000000e+00 0.00000000e+00 1.37565156e+02 1.24589235e+01\n",
      "  5.92053824e-01 5.89872521e-01 2.09036827e-01 2.06444759e-01\n",
      "  3.17592068e-01 7.05382436e-02 3.80169972e-02 2.21072238e+02\n",
      "  4.87634561e+01 2.29575071e-01 8.45467422e-02 9.10623229e-02\n",
      "  1.97733711e-02 5.89745042e-01 5.90722380e-01 2.09971671e-01\n",
      "  2.00991501e-01]\n",
      " [0.00000000e+00 0.00000000e+00 2.10000000e+01 9.00000000e+00\n",
      "  2.54000000e+02 1.49052424e+04 0.00000000e+00 0.00000000e+00\n",
      "  0.00000000e+00 0.00000000e+00 0.00000000e+00 1.00000000e+00\n",
      "  0.00000000e+00 0.00000000e+00 0.00000000e+00 0.00000000e+00\n",
      "  0.00000000e+00 0.00000000e+00 0.00000000e+00 0.00000000e+00\n",
      "  0.00000000e+00 0.00000000e+00 8.06060606e+00 1.02121212e+01\n",
      "  0.00000000e+00 0.00000000e+00 0.00000000e+00 0.00000000e+00\n",
      "  1.00000000e+00 0.00000000e+00 1.17272727e-01 1.11333333e+02\n",
      "  2.39878788e+02 1.00000000e+00 0.00000000e+00 4.06060606e-02\n",
      "  2.96969697e-02 2.72727273e-03 3.03030303e-04 2.69696970e-02\n",
      "  2.96969697e-02]\n",
      " [0.00000000e+00 0.00000000e+00 2.00000000e+01 8.62500000e+00\n",
      "  5.27647500e+04 6.23550000e+03 0.00000000e+00 0.00000000e+00\n",
      "  0.00000000e+00 1.50000000e+00 0.00000000e+00 1.00000000e+00\n",
      "  7.50000000e-01 0.00000000e+00 0.00000000e+00 0.00000000e+00\n",
      "  0.00000000e+00 0.00000000e+00 0.00000000e+00 0.00000000e+00\n",
      "  0.00000000e+00 0.00000000e+00 5.50000000e+00 5.75000000e+00\n",
      "  7.50000000e-03 7.50000000e-03 2.50000000e-02 6.12500000e-02\n",
      "  1.00000000e+00 0.00000000e+00 5.37500000e-02 1.45125000e+02\n",
      "  1.16125000e+02 8.61250000e-01 5.00000000e-03 1.31250000e-01\n",
      "  0.00000000e+00 0.00000000e+00 1.25000000e-03 5.50000000e-02\n",
      "  5.50000000e-02]\n",
      " [4.79820628e-01 4.48430493e-02 2.75650224e+01 9.00000000e+00\n",
      "  4.30394619e+02 4.02766816e+02 0.00000000e+00 0.00000000e+00\n",
      "  0.00000000e+00 2.24215247e-02 0.00000000e+00 9.68609865e-01\n",
      "  0.00000000e+00 0.00000000e+00 0.00000000e+00 5.38116592e-02\n",
      "  0.00000000e+00 0.00000000e+00 0.00000000e+00 0.00000000e+00\n",
      "  0.00000000e+00 4.48430493e-03 1.55022422e+01 1.87040359e+01\n",
      "  6.27802691e-04 1.52466368e-03 0.00000000e+00 4.03587444e-04\n",
      "  9.95515695e-01 8.96860987e-03 1.85381166e-01 1.45103139e+02\n",
      "  2.15569507e+02 8.93587444e-01 2.40358744e-02 8.43946188e-02\n",
      "  1.82062780e-02 1.07623318e-03 1.21076233e-03 9.37219731e-03\n",
      "  9.32735426e-03]\n",
      " [0.00000000e+00 0.00000000e+00 2.10000000e+01 9.00000000e+00\n",
      "  2.51772727e+02 8.62447727e+03 0.00000000e+00 0.00000000e+00\n",
      "  0.00000000e+00 0.00000000e+00 0.00000000e+00 1.00000000e+00\n",
      "  0.00000000e+00 0.00000000e+00 0.00000000e+00 0.00000000e+00\n",
      "  0.00000000e+00 0.00000000e+00 0.00000000e+00 0.00000000e+00\n",
      "  0.00000000e+00 0.00000000e+00 7.95454545e+00 1.25909091e+01\n",
      "  0.00000000e+00 1.59090909e-03 0.00000000e+00 0.00000000e+00\n",
      "  1.00000000e+00 0.00000000e+00 7.84090909e-02 1.05954545e+02\n",
      "  2.49295455e+02 1.00000000e+00 0.00000000e+00 1.46590909e-01\n",
      "  2.36363636e-02 0.00000000e+00 0.00000000e+00 0.00000000e+00\n",
      "  1.18181818e-02]\n",
      " [7.35583333e+03 1.00000000e+00 4.20000000e+01 9.00000000e+00\n",
      "  1.46388889e+02 1.05000000e+02 0.00000000e+00 0.00000000e+00\n",
      "  0.00000000e+00 0.00000000e+00 0.00000000e+00 0.00000000e+00\n",
      "  0.00000000e+00 0.00000000e+00 0.00000000e+00 0.00000000e+00\n",
      "  0.00000000e+00 0.00000000e+00 0.00000000e+00 0.00000000e+00\n",
      "  0.00000000e+00 0.00000000e+00 1.27777778e+00 1.05555556e+00\n",
      "  0.00000000e+00 0.00000000e+00 0.00000000e+00 0.00000000e+00\n",
      "  9.55555556e-01 3.33333333e-02 0.00000000e+00 2.55000000e+02\n",
      "  2.00000000e+00 6.66666667e-03 6.25555556e-01 8.95000000e-01\n",
      "  0.00000000e+00 0.00000000e+00 0.00000000e+00 0.00000000e+00\n",
      "  0.00000000e+00]\n",
      " [1.79080000e+03 0.00000000e+00 2.84000000e+01 9.00000000e+00\n",
      "  2.71600000e+02 5.18694000e+04 0.00000000e+00 0.00000000e+00\n",
      "  0.00000000e+00 0.00000000e+00 0.00000000e+00 1.00000000e+00\n",
      "  2.04000000e+01 2.00000000e-01 4.00000000e-01 2.38000000e+01\n",
      "  0.00000000e+00 0.00000000e+00 6.00000000e-01 0.00000000e+00\n",
      "  0.00000000e+00 0.00000000e+00 1.80000000e+00 1.80000000e+00\n",
      "  0.00000000e+00 0.00000000e+00 0.00000000e+00 0.00000000e+00\n",
      "  1.00000000e+00 0.00000000e+00 0.00000000e+00 1.67800000e+02\n",
      "  2.23400000e+02 8.76000000e-01 2.00000000e-03 2.02000000e-01\n",
      "  8.00000000e-03 1.28000000e-01 1.64000000e-01 0.00000000e+00\n",
      "  0.00000000e+00]\n",
      " [2.95238095e+00 0.00000000e+00 2.20158730e+01 9.00000000e+00\n",
      "  3.29190476e+02 4.69846032e+03 0.00000000e+00 0.00000000e+00\n",
      "  0.00000000e+00 7.14285714e-01 0.00000000e+00 1.00000000e+00\n",
      "  3.17460317e-02 1.58730159e-02 0.00000000e+00 0.00000000e+00\n",
      "  0.00000000e+00 0.00000000e+00 0.00000000e+00 0.00000000e+00\n",
      "  0.00000000e+00 3.17460317e-02 8.22222222e+00 1.05238095e+01\n",
      "  3.96825397e-03 4.76190476e-03 0.00000000e+00 0.00000000e+00\n",
      "  1.00000000e+00 0.00000000e+00 1.05079365e-01 1.11047619e+02\n",
      "  2.34206349e+02 9.56825397e-01 1.42857143e-02 5.87301587e-02\n",
      "  3.00000000e-02 6.34920635e-04 4.76190476e-04 1.19047619e-02\n",
      "  4.12698413e-03]\n",
      " [0.00000000e+00 0.00000000e+00 2.10000000e+01 9.00000000e+00\n",
      "  2.42055556e+02 2.52436667e+04 0.00000000e+00 0.00000000e+00\n",
      "  0.00000000e+00 0.00000000e+00 0.00000000e+00 1.00000000e+00\n",
      "  0.00000000e+00 0.00000000e+00 0.00000000e+00 0.00000000e+00\n",
      "  0.00000000e+00 0.00000000e+00 0.00000000e+00 0.00000000e+00\n",
      "  0.00000000e+00 0.00000000e+00 9.11111111e+00 9.38888889e+00\n",
      "  2.22222222e-03 2.22222222e-03 0.00000000e+00 0.00000000e+00\n",
      "  1.00000000e+00 0.00000000e+00 4.83333333e-02 1.12444444e+02\n",
      "  2.55000000e+02 1.00000000e+00 0.00000000e+00 9.94444444e-02\n",
      "  2.55555556e-02 0.00000000e+00 5.55555556e-04 5.55555556e-04\n",
      "  0.00000000e+00]\n",
      " [5.15873016e+00 6.34920635e-02 4.72380952e+01 9.00000000e+00\n",
      "  1.90620635e+03 2.88857143e+02 0.00000000e+00 3.17460317e-02\n",
      "  0.00000000e+00 0.00000000e+00 0.00000000e+00 9.52380952e-01\n",
      "  0.00000000e+00 0.00000000e+00 0.00000000e+00 0.00000000e+00\n",
      "  0.00000000e+00 0.00000000e+00 0.00000000e+00 0.00000000e+00\n",
      "  0.00000000e+00 0.00000000e+00 1.82539683e+00 2.09523810e+00\n",
      "  6.34920635e-04 0.00000000e+00 0.00000000e+00 0.00000000e+00\n",
      "  9.68888889e-01 3.84126984e-02 4.31269841e-01 1.32301587e+02\n",
      "  1.31539683e+02 6.05555556e-01 6.76190476e-02 7.74603175e-02\n",
      "  1.33333333e-02 6.66666667e-03 1.26984127e-03 8.25396825e-03\n",
      "  6.34920635e-04]\n",
      " [0.00000000e+00 0.00000000e+00 2.08888889e+01 9.00000000e+00\n",
      "  1.01891111e+04 4.35555556e+01 0.00000000e+00 0.00000000e+00\n",
      "  0.00000000e+00 0.00000000e+00 0.00000000e+00 8.88888889e-01\n",
      "  0.00000000e+00 0.00000000e+00 0.00000000e+00 0.00000000e+00\n",
      "  0.00000000e+00 0.00000000e+00 0.00000000e+00 0.00000000e+00\n",
      "  0.00000000e+00 0.00000000e+00 5.11111111e+00 5.33333333e+00\n",
      "  0.00000000e+00 0.00000000e+00 0.00000000e+00 0.00000000e+00\n",
      "  9.77777778e-01 4.44444444e-02 1.66666667e-01 1.32000000e+02\n",
      "  8.96666667e+01 4.61111111e-01 7.22222222e-02 4.11111111e-01\n",
      "  1.44444444e-02 1.11111111e-03 1.11111111e-03 0.00000000e+00\n",
      "  0.00000000e+00]\n",
      " [4.37500000e-01 0.00000000e+00 2.09218750e+01 9.00000000e+00\n",
      "  2.73671875e+02 1.37032031e+03 0.00000000e+00 0.00000000e+00\n",
      "  0.00000000e+00 8.59375000e-02 0.00000000e+00 1.00000000e+00\n",
      "  0.00000000e+00 0.00000000e+00 0.00000000e+00 0.00000000e+00\n",
      "  0.00000000e+00 0.00000000e+00 0.00000000e+00 0.00000000e+00\n",
      "  0.00000000e+00 1.56250000e-02 9.82812500e+00 1.26250000e+01\n",
      "  0.00000000e+00 0.00000000e+00 0.00000000e+00 1.48437500e-03\n",
      "  1.00000000e+00 0.00000000e+00 7.09375000e-02 1.43453125e+02\n",
      "  2.44835938e+02 9.86796875e-01 1.56250000e-03 4.06250000e-02\n",
      "  2.03906250e-02 5.46875000e-04 4.68750000e-04 5.54687500e-03\n",
      "  1.69531250e-02]\n",
      " [2.73584906e-01 0.00000000e+00 2.08301887e+01 9.00000000e+00\n",
      "  2.66537736e+02 2.61058491e+03 0.00000000e+00 0.00000000e+00\n",
      "  0.00000000e+00 4.15094340e-01 0.00000000e+00 9.90566038e-01\n",
      "  0.00000000e+00 1.88679245e-02 0.00000000e+00 0.00000000e+00\n",
      "  0.00000000e+00 0.00000000e+00 9.43396226e-03 0.00000000e+00\n",
      "  0.00000000e+00 1.88679245e-02 7.53773585e+00 1.11509434e+01\n",
      "  0.00000000e+00 1.32075472e-03 0.00000000e+00 7.45283019e-03\n",
      "  9.97641509e-01 4.71698113e-03 1.08584906e-01 1.45943396e+02\n",
      "  2.34264151e+02 9.78490566e-01 2.54716981e-03 6.85849057e-02\n",
      "  2.16981132e-02 8.49056604e-04 4.71698113e-04 1.50943396e-03\n",
      "  2.07547170e-03]\n",
      " [2.26496552e+03 1.00000000e+00 4.20000000e+01 9.00000000e+00\n",
      "  1.46448276e+02 1.05000000e+02 0.00000000e+00 0.00000000e+00\n",
      "  0.00000000e+00 0.00000000e+00 0.00000000e+00 0.00000000e+00\n",
      "  0.00000000e+00 0.00000000e+00 0.00000000e+00 0.00000000e+00\n",
      "  0.00000000e+00 0.00000000e+00 0.00000000e+00 0.00000000e+00\n",
      "  0.00000000e+00 0.00000000e+00 2.06896552e+00 1.24137931e+00\n",
      "  0.00000000e+00 0.00000000e+00 0.00000000e+00 0.00000000e+00\n",
      "  8.16206897e-01 1.74827586e-01 0.00000000e+00 2.52862069e+02\n",
      "  1.65517241e+00 5.51724138e-03 7.16206897e-01 9.45172414e-01\n",
      "  0.00000000e+00 0.00000000e+00 0.00000000e+00 0.00000000e+00\n",
      "  0.00000000e+00]]\n"
     ]
    }
   ],
   "source": [
    "for K in [7,15,23,31,45]:\n",
    "    idx, centroids = kmeans(train_arr, K)\n",
    "    print(f\"k={K}\")\n",
    "    print(\"Cluster assignments:\", idx)\n",
    "    print(\"Centroids:\", centroids)"
   ]
  },
  {
   "cell_type": "code",
   "execution_count": 20,
   "metadata": {},
   "outputs": [],
   "source": [
    "class k_medoids:\n",
    "    def __init__(self, k = 2, max_iter = 300, has_converged = False):\n",
    "        self.k = k\n",
    "        self.max_iter = max_iter\n",
    "        self.has_converged = has_converged\n",
    "        self.medoids_cost = []\n",
    "        \n",
    "    def initMedoids(self, X):\n",
    "        \n",
    "        self.medoids = []\n",
    "        \n",
    "        indexes = np.random.randint(0, len(X)-1,self.k)\n",
    "        self.medoids = X[indexes]\n",
    "        \n",
    "        for i in range(0,self.k):\n",
    "            self.medoids_cost.append(0)\n",
    "        \n",
    "    def isConverged(self, new_medoids):\n",
    "        \n",
    "        return set([tuple(x) for x in self.medoids]) == set([tuple(x) for x in new_medoids])\n",
    "        \n",
    "    def updateMedoids(self, X, labels):\n",
    "        self.has_converged = True\n",
    "        \n",
    "        clusters = []\n",
    "        for i in range(0,self.k):\n",
    "            cluster = []\n",
    "            for j in range(len(X)):\n",
    "                if (labels[j] == i):\n",
    "                    cluster.append(X[j])\n",
    "            clusters.append(cluster)\n",
    "        \n",
    "        new_medoids = []\n",
    "        for i in range(0, self.k):\n",
    "            new_medoid = self.medoids[i]\n",
    "            old_medoids_cost = self.medoids_cost[i]\n",
    "            for j in range(len(clusters[i])):\n",
    "                \n",
    "                cur_medoids_cost = 0\n",
    "                for dpoint_index in range(len(clusters[i])):\n",
    "                    cur_medoids_cost += pairwise_distances(np.array(clusters[i][j]).reshape(1,-1), np.array(clusters[i][dpoint_index]).reshape(1,-1))\n",
    "                \n",
    "                if cur_medoids_cost < old_medoids_cost:\n",
    "                    new_medoid = clusters[i][j]\n",
    "                    old_medoids_cost = cur_medoids_cost\n",
    "            \n",
    "            new_medoids.append(new_medoid)\n",
    "        \n",
    "        if not self.isConverged(new_medoids):\n",
    "            self.medoids = new_medoids\n",
    "            self.has_converged = False\n",
    "    \n",
    "    def fit(self, X):\n",
    "        self.initMedoids(X)\n",
    "        \n",
    "        for i in tqdm(range(self.max_iter)):\n",
    "            cur_labels = []\n",
    "            for medoid in range(0,self.k):\n",
    "                self.medoids_cost[medoid] = 0\n",
    "                for k in range(len(X)):\n",
    "                    d_list = []                    \n",
    "                    for j in range(0,self.k):\n",
    "                        d_list.append(pairwise_distances(np.array(self.medoids[j]).reshape(1,-1), np.array(X[k]).reshape(1,-1)))\n",
    "                    cur_labels.append(d_list.index(min(d_list)))\n",
    "                    \n",
    "                    self.medoids_cost[medoid] += min(d_list)\n",
    "                                \n",
    "            self.updateMedoids(X, cur_labels)\n",
    "            \n",
    "            if self.has_converged:\n",
    "                break\n",
    "\n",
    "        return np.array(self.medoids)\n",
    "\n",
    "        \n",
    "    def predict(self,data):\n",
    "        pred = []\n",
    "        for i in range(len(data)):\n",
    "            d_list = []\n",
    "            for j in range(len(self.medoids)):\n",
    "                d_list.append(pairwise_distances(np.array(self.medoids[j]).reshape(1,-1),np.array(data[i]).reshape(1,-1)))\n",
    "                \n",
    "            pred.append(d_list.index(min(d_list)))\n",
    "            \n",
    "        return np.array(pred)"
   ]
  },
  {
   "cell_type": "code",
   "execution_count": 21,
   "metadata": {},
   "outputs": [],
   "source": [
    "d = k_medoids(k=15, max_iter = 20)"
   ]
  },
  {
   "cell_type": "code",
   "execution_count": 22,
   "metadata": {},
   "outputs": [
    {
     "name": "stderr",
     "output_type": "stream",
     "text": [
      " 20%|██        | 4/20 [00:20<01:22,  5.17s/it]\n"
     ]
    }
   ],
   "source": [
    "meds = d.fit(np.array(scaled_train[0:100]))"
   ]
  },
  {
   "cell_type": "markdown",
   "metadata": {},
   "source": [
    "### Important\n",
    "Check which class each centriod belongs to"
   ]
  },
  {
   "cell_type": "code",
   "execution_count": 23,
   "metadata": {},
   "outputs": [
    {
     "name": "stderr",
     "output_type": "stream",
     "text": [
      "100%|██████████| 100/100 [00:00<00:00, 197564.96it/s]\n"
     ]
    }
   ],
   "source": [
    "clusterLabels = {}\n",
    "trainClusters = d.predict(np.array(scaled_train[0:100]))\n",
    "medLabels = []\n",
    "for i in tqdm(range(len(trainClusters))):\n",
    "    if trainClusters[i] not in clusterLabels.keys():\n",
    "        clusterLabels[trainClusters[i]] = [trainLabels10[i]]\n",
    "    else:\n",
    "        clusterLabels[trainClusters[i]].append(trainLabels10[i])\n",
    "\n",
    "for key in clusterLabels:\n",
    "    medLabels.append(max(set(clusterLabels[key]), key = clusterLabels[key].count))"
   ]
  },
  {
   "cell_type": "code",
   "execution_count": 24,
   "metadata": {},
   "outputs": [],
   "source": [
    "result = d.predict(np.array(scaled_test))"
   ]
  },
  {
   "cell_type": "code",
   "execution_count": 33,
   "metadata": {},
   "outputs": [],
   "source": [
    "def calcAccuracy(predict, trueLabels, medLabels):\n",
    "    acc = 0\n",
    "    for i in range(len(predict)):\n",
    "        if trueLabels[i] == 0 and medLabels[predict[i]] == 0:\n",
    "            acc += 1\n",
    "        elif trueLabels[i] != 0 and medLabels[predict[i]] != 0:\n",
    "            acc += 1\n",
    "    return acc/len(predict)"
   ]
  },
  {
   "cell_type": "code",
   "execution_count": 39,
   "metadata": {},
   "outputs": [],
   "source": [
    "# calculate precision\n",
    "def calcPercision(predict, trueLabels,medLabels):\n",
    "    TP = 0\n",
    "    FP = 0\n",
    "    for i in range(len(predict)):\n",
    "        if trueLabels[i] == 0 and medLabels[predict[i]] == 0:\n",
    "            TP += 1\n",
    "        elif trueLabels[i] == 0 and medLabels[predict[i]] != 0:\n",
    "            FP += 1\n",
    "    return TP/(TP+FP)"
   ]
  },
  {
   "cell_type": "code",
   "execution_count": 44,
   "metadata": {},
   "outputs": [],
   "source": [
    "# calculate recall\n",
    "def calcRecall(predict, trueLabels,medLabels):\n",
    "    TP = 0\n",
    "    FN = 0\n",
    "    for i in range(len(predict)):\n",
    "        if trueLabels[i] == 0 and medLabels[predict[i]] == 0:\n",
    "            TP += 1\n",
    "        elif trueLabels[i] != 0 and medLabels[predict[i]] == 0:\n",
    "            FN += 1\n",
    "    return TP/(TP+FN)"
   ]
  },
  {
   "cell_type": "code",
   "execution_count": 36,
   "metadata": {},
   "outputs": [],
   "source": [
    "# calculate F1 score\n",
    "def calcF1(precision, recall):\n",
    "    return 2*precision*recall/(precision+recall)"
   ]
  },
  {
   "cell_type": "code",
   "execution_count": 43,
   "metadata": {},
   "outputs": [],
   "source": [
    "# calulate conditional entropy\n",
    "def calcEntropy(predict, trueLabels,medLabels):\n",
    "    TP = 0\n",
    "    FP = 0\n",
    "    FN = 0\n",
    "    TN = 0\n",
    "    for i in range(len(predict)):\n",
    "        if trueLabels[i] == 0 and medLabels[predict[i]] == 0:\n",
    "            TP += 1\n",
    "        elif trueLabels[i] == 0 and medLabels[predict[i]] != 0:\n",
    "            FP += 1\n",
    "        elif trueLabels[i] != 0 and medLabels[predict[i]] == 0:\n",
    "            FN += 1\n",
    "        elif trueLabels[i] != 0 and medLabels[predict[i]] != 0:\n",
    "            TN += 1\n",
    "    return -TP/len(predict)*np.log2(TP/len(predict)) - FP/len(predict)*np.log2(FP/len(predict)) - FN/len(predict)*np.log2(FN/len(predict)) - TN/len(predict)*np.log2(TN/len(predict))"
   ]
  },
  {
   "cell_type": "code",
   "execution_count": 45,
   "metadata": {},
   "outputs": [
    {
     "name": "stdout",
     "output_type": "stream",
     "text": [
      "Accuracy:  0.6495581633049126\n",
      "Precision:  0.7850061569928829\n",
      "Recall:  0.6914351894405941\n",
      "F1 score:  0.735255595738442\n",
      "Conditional entropy:  1.798102710253255\n"
     ]
    }
   ],
   "source": [
    "print(\"Accuracy: \", calcAccuracy(result, testLabels, medLabels))\n",
    "print(\"Precision: \", calcPercision(result, testLabels, medLabels))\n",
    "print(\"Recall: \", calcRecall(result, testLabels, medLabels))\n",
    "print(\"F1 score: \", calcF1(calcPercision(result, testLabels,medLabels), calcRecall(result, testLabels,medLabels)))\n",
    "print(\"Conditional entropy: \", calcEntropy(result, testLabels,medLabels))"
   ]
  }
 ],
 "metadata": {
  "kernelspec": {
   "display_name": "Python 3 (ipykernel)",
   "language": "python",
   "name": "python3"
  },
  "language_info": {
   "codemirror_mode": {
    "name": "ipython",
    "version": 3
   },
   "file_extension": ".py",
   "mimetype": "text/x-python",
   "name": "python",
   "nbconvert_exporter": "python",
   "pygments_lexer": "ipython3",
   "version": "3.9.13"
  },
  "vscode": {
   "interpreter": {
    "hash": "916dbcbb3f70747c44a77c7bcd40155683ae19c65e1c03b4aa3499c5328201f1"
   }
  }
 },
 "nbformat": 4,
 "nbformat_minor": 2
}
